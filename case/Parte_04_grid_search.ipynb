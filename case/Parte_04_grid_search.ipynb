{
 "cells": [
  {
   "cell_type": "markdown",
   "metadata": {
    "id": "8N75nlABpnBk"
   },
   "source": [
    "# Otimização de Hiperparâmetros"
   ]
  },
  {
   "cell_type": "markdown",
   "metadata": {
    "id": "NVAMjgY4ps5q"
   },
   "source": [
    "## Carregando os dados"
   ]
  },
  {
   "cell_type": "code",
   "execution_count": 2,
   "metadata": {
    "id": "xW4VcUFmpdBy"
   },
   "outputs": [],
   "source": [
    "import numpy as np\n",
    "import pandas as pd"
   ]
  },
  {
   "cell_type": "code",
   "execution_count": 3,
   "metadata": {
    "colab": {
     "base_uri": "https://localhost:8080/",
     "height": 195
    },
    "executionInfo": {
     "elapsed": 1565,
     "status": "ok",
     "timestamp": 1618406663106,
     "user": {
      "displayName": "João Paulo da Costa Nogueira",
      "photoUrl": "https://lh3.googleusercontent.com/a-/AOh14GgdeCywfbq71Vsi7etCALtPU1tVWp_RgCuzRNTO=s64",
      "userId": "02773697422153285501"
     },
     "user_tz": 180
    },
    "id": "g7AAClHZpjRb",
    "outputId": "6455bfc2-44aa-4fe8-cee9-b5fc2e0c90f3"
   },
   "outputs": [
    {
     "data": {
      "text/html": [
       "<div>\n",
       "<style scoped>\n",
       "    .dataframe tbody tr th:only-of-type {\n",
       "        vertical-align: middle;\n",
       "    }\n",
       "\n",
       "    .dataframe tbody tr th {\n",
       "        vertical-align: top;\n",
       "    }\n",
       "\n",
       "    .dataframe thead th {\n",
       "        text-align: right;\n",
       "    }\n",
       "</style>\n",
       "<table border=\"1\" class=\"dataframe\">\n",
       "  <thead>\n",
       "    <tr style=\"text-align: right;\">\n",
       "      <th></th>\n",
       "      <th>data_ref_safra</th>\n",
       "      <th>seller_id</th>\n",
       "      <th>uf</th>\n",
       "      <th>tot_orders_12m</th>\n",
       "      <th>tot_items_12m</th>\n",
       "      <th>tot_items_dist_12m</th>\n",
       "      <th>receita_12m</th>\n",
       "      <th>recencia</th>\n",
       "      <th>nao_revendeu_next_6m</th>\n",
       "    </tr>\n",
       "  </thead>\n",
       "  <tbody>\n",
       "    <tr>\n",
       "      <th>0</th>\n",
       "      <td>2018-01-01</td>\n",
       "      <td>0015a82c2db000af6aaaf3ae2ecb0532</td>\n",
       "      <td>SP</td>\n",
       "      <td>3</td>\n",
       "      <td>3</td>\n",
       "      <td>1</td>\n",
       "      <td>2685.00</td>\n",
       "      <td>74</td>\n",
       "      <td>1</td>\n",
       "    </tr>\n",
       "    <tr>\n",
       "      <th>1</th>\n",
       "      <td>2018-01-01</td>\n",
       "      <td>001cca7ae9ae17fb1caed9dfb1094831</td>\n",
       "      <td>ES</td>\n",
       "      <td>171</td>\n",
       "      <td>207</td>\n",
       "      <td>9</td>\n",
       "      <td>21275.23</td>\n",
       "      <td>2</td>\n",
       "      <td>0</td>\n",
       "    </tr>\n",
       "    <tr>\n",
       "      <th>2</th>\n",
       "      <td>2018-01-01</td>\n",
       "      <td>002100f778ceb8431b7a1020ff7ab48f</td>\n",
       "      <td>SP</td>\n",
       "      <td>38</td>\n",
       "      <td>42</td>\n",
       "      <td>15</td>\n",
       "      <td>781.80</td>\n",
       "      <td>2</td>\n",
       "      <td>0</td>\n",
       "    </tr>\n",
       "    <tr>\n",
       "      <th>3</th>\n",
       "      <td>2018-01-01</td>\n",
       "      <td>003554e2dce176b5555353e4f3555ac8</td>\n",
       "      <td>GO</td>\n",
       "      <td>1</td>\n",
       "      <td>1</td>\n",
       "      <td>1</td>\n",
       "      <td>120.00</td>\n",
       "      <td>16</td>\n",
       "      <td>1</td>\n",
       "    </tr>\n",
       "    <tr>\n",
       "      <th>4</th>\n",
       "      <td>2018-01-01</td>\n",
       "      <td>004c9cd9d87a3c30c522c48c4fc07416</td>\n",
       "      <td>SP</td>\n",
       "      <td>130</td>\n",
       "      <td>141</td>\n",
       "      <td>75</td>\n",
       "      <td>16228.88</td>\n",
       "      <td>8</td>\n",
       "      <td>0</td>\n",
       "    </tr>\n",
       "  </tbody>\n",
       "</table>\n",
       "</div>"
      ],
      "text/plain": [
       "  data_ref_safra                         seller_id  uf  tot_orders_12m  \\\n",
       "0     2018-01-01  0015a82c2db000af6aaaf3ae2ecb0532  SP               3   \n",
       "1     2018-01-01  001cca7ae9ae17fb1caed9dfb1094831  ES             171   \n",
       "2     2018-01-01  002100f778ceb8431b7a1020ff7ab48f  SP              38   \n",
       "3     2018-01-01  003554e2dce176b5555353e4f3555ac8  GO               1   \n",
       "4     2018-01-01  004c9cd9d87a3c30c522c48c4fc07416  SP             130   \n",
       "\n",
       "   tot_items_12m  tot_items_dist_12m  receita_12m  recencia  \\\n",
       "0              3                   1      2685.00        74   \n",
       "1            207                   9     21275.23         2   \n",
       "2             42                  15       781.80         2   \n",
       "3              1                   1       120.00        16   \n",
       "4            141                  75     16228.88         8   \n",
       "\n",
       "   nao_revendeu_next_6m  \n",
       "0                     1  \n",
       "1                     0  \n",
       "2                     0  \n",
       "3                     1  \n",
       "4                     0  "
      ]
     },
     "execution_count": 3,
     "metadata": {},
     "output_type": "execute_result"
    }
   ],
   "source": [
    "df_abt = pd.read_csv('C:\\\\Users\\\\HP\\\\Documents\\\\GitHub\\\\Case ML\\\\propensao_revenda_abt.csv')\n",
    "df_abt.head()"
   ]
  },
  {
   "cell_type": "code",
   "execution_count": 4,
   "metadata": {
    "colab": {
     "base_uri": "https://localhost:8080/"
    },
    "executionInfo": {
     "elapsed": 887,
     "status": "ok",
     "timestamp": 1618406681700,
     "user": {
      "displayName": "João Paulo da Costa Nogueira",
      "photoUrl": "https://lh3.googleusercontent.com/a-/AOh14GgdeCywfbq71Vsi7etCALtPU1tVWp_RgCuzRNTO=s64",
      "userId": "02773697422153285501"
     },
     "user_tz": 180
    },
    "id": "cUcnUq64je3g",
    "outputId": "6c0afdb1-9a2d-4ec6-d1d7-93fec16e27b4"
   },
   "outputs": [
    {
     "data": {
      "text/plain": [
       "2018-06-01    2213\n",
       "2018-05-01    2104\n",
       "2018-04-01    1941\n",
       "2018-03-01    1874\n",
       "2018-02-01    1805\n",
       "2018-01-01    1690\n",
       "Name: data_ref_safra, dtype: int64"
      ]
     },
     "execution_count": 4,
     "metadata": {},
     "output_type": "execute_result"
    }
   ],
   "source": [
    "df_abt['data_ref_safra'].value_counts()"
   ]
  },
  {
   "cell_type": "code",
   "execution_count": 5,
   "metadata": {
    "id": "gV_eu4S6h0MT"
   },
   "outputs": [],
   "source": [
    "df_abt_train = df_abt.query('data_ref_safra < \"2018-03-01\"')\n",
    "df_abt_oot   = df_abt.query('data_ref_safra == \"2018-03-01\"')"
   ]
  },
  {
   "cell_type": "code",
   "execution_count": 6,
   "metadata": {
    "id": "SajHPf6rDsJ3"
   },
   "outputs": [],
   "source": [
    "# variáveis chaves da tabela\n",
    "key_vars = ['data_ref_safra', 'seller_id']\n",
    "\n",
    "# variáveis numéricas\n",
    "num_vars = ['tot_orders_12m', 'tot_items_12m', 'tot_items_dist_12m', 'receita_12m', 'recencia']\n",
    "\n",
    "# variáveis categóricas\n",
    "cat_vars = ['uf']\n",
    "\n",
    "# variável resposta/target\n",
    "target = 'nao_revendeu_next_6m'\n",
    "\n",
    "# criando a lista com as features\n",
    "features = cat_vars + num_vars\n",
    "\n",
    "# filtrando a base de features\n",
    "X_train = df_abt_train[features]\n",
    "# filtrando o target\n",
    "y_train = df_abt_train[target]"
   ]
  },
  {
   "cell_type": "code",
   "execution_count": null,
   "metadata": {
    "id": "SkrtGk9KDr8T"
   },
   "outputs": [],
   "source": [
    "!pip install feature-engine==1.0.2"
   ]
  },
  {
   "cell_type": "code",
   "execution_count": 7,
   "metadata": {
    "id": "Rki7IUpuD4JI"
   },
   "outputs": [],
   "source": [
    "from sklearn.pipeline import Pipeline\n",
    "from feature_engine.imputation import ArbitraryNumberImputer\n",
    "from feature_engine.imputation import CategoricalImputer\n",
    "from feature_engine.encoding import OneHotEncoder\n",
    "from sklearn.tree import DecisionTreeClassifier\n",
    "\n",
    "dt_pipe = Pipeline(steps=[\n",
    "                          ('numeric_imputer', ArbitraryNumberImputer(variables=num_vars, arbitrary_number=-999)),\n",
    "                          ('categoric_imputer', CategoricalImputer(variables=cat_vars)),\n",
    "                          ('one_hot_encoder', OneHotEncoder(variables=cat_vars)),\n",
    "                          ('model', DecisionTreeClassifier(random_state=42))\n",
    "])"
   ]
  },
  {
   "cell_type": "code",
   "execution_count": 9,
   "metadata": {
    "colab": {
     "base_uri": "https://localhost:8080/",
     "height": 195
    },
    "executionInfo": {
     "elapsed": 2653,
     "status": "ok",
     "timestamp": 1618409259783,
     "user": {
      "displayName": "João Paulo da Costa Nogueira",
      "photoUrl": "https://lh3.googleusercontent.com/a-/AOh14GgdeCywfbq71Vsi7etCALtPU1tVWp_RgCuzRNTO=s64",
      "userId": "02773697422153285501"
     },
     "user_tz": 180
    },
    "id": "C4mHGkOLERI8",
    "outputId": "bb3a03a9-f7e8-464e-a249-67f12df09e6b"
   },
   "outputs": [
    {
     "data": {
      "text/html": [
       "<div>\n",
       "<style scoped>\n",
       "    .dataframe tbody tr th:only-of-type {\n",
       "        vertical-align: middle;\n",
       "    }\n",
       "\n",
       "    .dataframe tbody tr th {\n",
       "        vertical-align: top;\n",
       "    }\n",
       "\n",
       "    .dataframe thead th {\n",
       "        text-align: right;\n",
       "    }\n",
       "</style>\n",
       "<table border=\"1\" class=\"dataframe\">\n",
       "  <thead>\n",
       "    <tr style=\"text-align: right;\">\n",
       "      <th></th>\n",
       "      <th>fit_time</th>\n",
       "      <th>score_time</th>\n",
       "      <th>test_score</th>\n",
       "    </tr>\n",
       "  </thead>\n",
       "  <tbody>\n",
       "    <tr>\n",
       "      <th>0</th>\n",
       "      <td>0.086768</td>\n",
       "      <td>0.031914</td>\n",
       "      <td>0.738241</td>\n",
       "    </tr>\n",
       "    <tr>\n",
       "      <th>1</th>\n",
       "      <td>0.075798</td>\n",
       "      <td>0.032912</td>\n",
       "      <td>0.760813</td>\n",
       "    </tr>\n",
       "    <tr>\n",
       "      <th>2</th>\n",
       "      <td>0.076795</td>\n",
       "      <td>0.034910</td>\n",
       "      <td>0.794548</td>\n",
       "    </tr>\n",
       "    <tr>\n",
       "      <th>3</th>\n",
       "      <td>0.046873</td>\n",
       "      <td>0.016957</td>\n",
       "      <td>0.739070</td>\n",
       "    </tr>\n",
       "    <tr>\n",
       "      <th>4</th>\n",
       "      <td>0.074799</td>\n",
       "      <td>0.018950</td>\n",
       "      <td>0.750518</td>\n",
       "    </tr>\n",
       "  </tbody>\n",
       "</table>\n",
       "</div>"
      ],
      "text/plain": [
       "   fit_time  score_time  test_score\n",
       "0  0.086768    0.031914    0.738241\n",
       "1  0.075798    0.032912    0.760813\n",
       "2  0.076795    0.034910    0.794548\n",
       "3  0.046873    0.016957    0.739070\n",
       "4  0.074799    0.018950    0.750518"
      ]
     },
     "execution_count": 9,
     "metadata": {},
     "output_type": "execute_result"
    }
   ],
   "source": [
    "from sklearn.model_selection import cross_validate\n",
    "from sklearn.model_selection import StratifiedKFold\n",
    "\n",
    "skf = StratifiedKFold(n_splits=5, shuffle=True, random_state=42)\n",
    "\n",
    "cv_results = cross_validate(dt_pipe, X_train, y_train, scoring='roc_auc', cv=skf, n_jobs=-1)\n",
    "cv_results_df = pd.DataFrame(cv_results)\n",
    "cv_results_df"
   ]
  },
  {
   "cell_type": "code",
   "execution_count": 10,
   "metadata": {
    "colab": {
     "base_uri": "https://localhost:8080/"
    },
    "executionInfo": {
     "elapsed": 936,
     "status": "ok",
     "timestamp": 1618409263266,
     "user": {
      "displayName": "João Paulo da Costa Nogueira",
      "photoUrl": "https://lh3.googleusercontent.com/a-/AOh14GgdeCywfbq71Vsi7etCALtPU1tVWp_RgCuzRNTO=s64",
      "userId": "02773697422153285501"
     },
     "user_tz": 180
    },
    "id": "u80cBnmWietD",
    "outputId": "ee1a8663-31f4-44d1-837a-33cbe911b454"
   },
   "outputs": [
    {
     "data": {
      "text/plain": [
       "0.7566381766381767"
      ]
     },
     "execution_count": 10,
     "metadata": {},
     "output_type": "execute_result"
    }
   ],
   "source": [
    "# roc_auc média\n",
    "cv_results_df['test_score'].mean()"
   ]
  },
  {
   "cell_type": "code",
   "execution_count": 11,
   "metadata": {
    "colab": {
     "base_uri": "https://localhost:8080/"
    },
    "executionInfo": {
     "elapsed": 1200,
     "status": "ok",
     "timestamp": 1618407772117,
     "user": {
      "displayName": "João Paulo da Costa Nogueira",
      "photoUrl": "https://lh3.googleusercontent.com/a-/AOh14GgdeCywfbq71Vsi7etCALtPU1tVWp_RgCuzRNTO=s64",
      "userId": "02773697422153285501"
     },
     "user_tz": 180
    },
    "id": "71TXnhzhJyUJ",
    "outputId": "83a8ca3c-7fd4-4231-f911-fdac1e5d6b99"
   },
   "outputs": [
    {
     "data": {
      "text/plain": [
       "{'ccp_alpha': 0.0,\n",
       " 'class_weight': None,\n",
       " 'criterion': 'gini',\n",
       " 'max_depth': None,\n",
       " 'max_features': None,\n",
       " 'max_leaf_nodes': None,\n",
       " 'min_impurity_decrease': 0.0,\n",
       " 'min_impurity_split': None,\n",
       " 'min_samples_leaf': 1,\n",
       " 'min_samples_split': 2,\n",
       " 'min_weight_fraction_leaf': 0.0,\n",
       " 'presort': 'deprecated',\n",
       " 'random_state': 42,\n",
       " 'splitter': 'best'}"
      ]
     },
     "execution_count": 11,
     "metadata": {},
     "output_type": "execute_result"
    }
   ],
   "source": [
    "dt_pipe[-1].get_params()"
   ]
  },
  {
   "cell_type": "markdown",
   "metadata": {
    "id": "yIyUsabjGNo5"
   },
   "source": [
    "# GridSearch\n",
    "\n",
    "Iremos utilizar a função `GridSearchCV`.\n",
    "\n",
    "**Parâmetros**\n",
    "* `estimator`: modelo de machine learning, também chamado estimador\n",
    "* `param_grid`: grid em forma de dicionário com os parâmetros em que a busca será realizada\n",
    "* `scoring`: métrica a ser otimizada\n",
    "* `cv`: estratégia de validação a ser utilizada\n",
    "* `n_jobs`: quantidade de cores do processador a ser utilizada para realizar o processamento em paralelo. O valor `-1` significa que todos os cores serão utilizados\n",
    "* `refit`: Retreine o melhor modelo encontrado em toda a base de dados\n",
    "* `verbose`: mostra as mensagens. Quanto maior o número inteiro, mais mensagens serão mostradas."
   ]
  },
  {
   "cell_type": "code",
   "execution_count": 12,
   "metadata": {
    "id": "jgYqeoJ0EQ_G"
   },
   "outputs": [],
   "source": [
    "from sklearn.model_selection import GridSearchCV\n",
    "\n",
    "grid_parametros = {\n",
    "    'model__max_depth': [2, 3, 4, 5, 6, 7]\n",
    "}\n",
    "\n",
    "grid_search = GridSearchCV(estimator=dt_pipe, param_grid=grid_parametros, scoring='roc_auc', cv=skf, n_jobs=-1, refit=True, verbose=1)"
   ]
  },
  {
   "cell_type": "code",
   "execution_count": 13,
   "metadata": {
    "colab": {
     "base_uri": "https://localhost:8080/"
    },
    "executionInfo": {
     "elapsed": 3046,
     "status": "ok",
     "timestamp": 1618409367981,
     "user": {
      "displayName": "João Paulo da Costa Nogueira",
      "photoUrl": "https://lh3.googleusercontent.com/a-/AOh14GgdeCywfbq71Vsi7etCALtPU1tVWp_RgCuzRNTO=s64",
      "userId": "02773697422153285501"
     },
     "user_tz": 180
    },
    "id": "eLugl2vIFgdJ",
    "outputId": "b5349dba-fb27-4566-f397-dd2e1bdc4fbf"
   },
   "outputs": [
    {
     "name": "stdout",
     "output_type": "stream",
     "text": [
      "Fitting 5 folds for each of 6 candidates, totalling 30 fits\n"
     ]
    },
    {
     "name": "stderr",
     "output_type": "stream",
     "text": [
      "[Parallel(n_jobs=-1)]: Using backend LokyBackend with 4 concurrent workers.\n",
      "[Parallel(n_jobs=-1)]: Done  30 out of  30 | elapsed:    0.6s finished\n"
     ]
    },
    {
     "data": {
      "text/plain": [
       "GridSearchCV(cv=StratifiedKFold(n_splits=5, random_state=42, shuffle=True),\n",
       "             estimator=Pipeline(steps=[('numeric_imputer',\n",
       "                                        ArbitraryNumberImputer(arbitrary_number=-999,\n",
       "                                                               variables=['tot_orders_12m',\n",
       "                                                                          'tot_items_12m',\n",
       "                                                                          'tot_items_dist_12m',\n",
       "                                                                          'receita_12m',\n",
       "                                                                          'recencia'])),\n",
       "                                       ('categoric_imputer',\n",
       "                                        CategoricalImputer(variables=['uf'])),\n",
       "                                       ('one_hot_encoder',\n",
       "                                        OneHotEncoder(variables=['uf'])),\n",
       "                                       ('model',\n",
       "                                        DecisionTreeClassifier(random_state=42))]),\n",
       "             n_jobs=-1, param_grid={'model__max_depth': [2, 3, 4, 5, 6, 7]},\n",
       "             scoring='roc_auc', verbose=1)"
      ]
     },
     "execution_count": 13,
     "metadata": {},
     "output_type": "execute_result"
    }
   ],
   "source": [
    "grid_search.fit(X_train, y_train)"
   ]
  },
  {
   "cell_type": "code",
   "execution_count": 14,
   "metadata": {
    "colab": {
     "base_uri": "https://localhost:8080/"
    },
    "executionInfo": {
     "elapsed": 788,
     "status": "ok",
     "timestamp": 1618408312317,
     "user": {
      "displayName": "João Paulo da Costa Nogueira",
      "photoUrl": "https://lh3.googleusercontent.com/a-/AOh14GgdeCywfbq71Vsi7etCALtPU1tVWp_RgCuzRNTO=s64",
      "userId": "02773697422153285501"
     },
     "user_tz": 180
    },
    "id": "SC82lr-qMUZl",
    "outputId": "1f2c6ea3-27dd-4fc8-885b-af66ab3dba3f"
   },
   "outputs": [
    {
     "data": {
      "text/plain": [
       "{'model__max_depth': 4}"
      ]
     },
     "execution_count": 14,
     "metadata": {},
     "output_type": "execute_result"
    }
   ],
   "source": [
    "# retorna a melhor combinação de hiperparâmetros\n",
    "best_params = grid_search.best_params_\n",
    "best_params"
   ]
  },
  {
   "cell_type": "code",
   "execution_count": 15,
   "metadata": {
    "colab": {
     "base_uri": "https://localhost:8080/"
    },
    "executionInfo": {
     "elapsed": 689,
     "status": "ok",
     "timestamp": 1618408314119,
     "user": {
      "displayName": "João Paulo da Costa Nogueira",
      "photoUrl": "https://lh3.googleusercontent.com/a-/AOh14GgdeCywfbq71Vsi7etCALtPU1tVWp_RgCuzRNTO=s64",
      "userId": "02773697422153285501"
     },
     "user_tz": 180
    },
    "id": "9XVDVqD6MfCG",
    "outputId": "47e12742-5539-44af-92ed-575e21be10f8"
   },
   "outputs": [
    {
     "data": {
      "text/plain": [
       "0.8911939911939912"
      ]
     },
     "execution_count": 15,
     "metadata": {},
     "output_type": "execute_result"
    }
   ],
   "source": [
    "# retorna o melhor score, nesse caso a roc-auc média usando um cv=5\n",
    "best_score = grid_search.best_score_\n",
    "best_score"
   ]
  },
  {
   "cell_type": "code",
   "execution_count": 16,
   "metadata": {
    "id": "IOqQOkfXn89y"
   },
   "outputs": [],
   "source": [
    "# retorna o melhor modelo do grid\n",
    "best_dt_model = grid_search.best_estimator_"
   ]
  },
  {
   "cell_type": "markdown",
   "metadata": {
    "id": "JKU6JOUop00v"
   },
   "source": [
    "## Avaliando a performance na base out of time"
   ]
  },
  {
   "cell_type": "code",
   "execution_count": 17,
   "metadata": {
    "colab": {
     "base_uri": "https://localhost:8080/"
    },
    "executionInfo": {
     "elapsed": 952,
     "status": "ok",
     "timestamp": 1618408488827,
     "user": {
      "displayName": "João Paulo da Costa Nogueira",
      "photoUrl": "https://lh3.googleusercontent.com/a-/AOh14GgdeCywfbq71Vsi7etCALtPU1tVWp_RgCuzRNTO=s64",
      "userId": "02773697422153285501"
     },
     "user_tz": 180
    },
    "id": "sID8zwjwp0Tc",
    "outputId": "9fc5f8ac-daf7-4c60-9b00-09f5d025cea6"
   },
   "outputs": [
    {
     "name": "stdout",
     "output_type": "stream",
     "text": [
      "Decision Tree: ROCAUC OOT = 0.8955542777450486\n"
     ]
    }
   ],
   "source": [
    "from sklearn.metrics import roc_auc_score\n",
    "\n",
    "X_oot = df_abt_oot[features]\n",
    "y_oot = df_abt_oot[target]\n",
    "\n",
    "y_proba_oot = best_dt_model.predict_proba(X_oot)[:, 1]\n",
    "rocauc_oot  = roc_auc_score(y_oot, y_proba_oot)\n",
    "print(f\"Decision Tree: ROCAUC OOT = {rocauc_oot}\")"
   ]
  },
  {
   "cell_type": "markdown",
   "metadata": {
    "id": "aiNUIKQAMxdC"
   },
   "source": [
    "# Grid Search com mais hiperparâmetros"
   ]
  },
  {
   "cell_type": "code",
   "execution_count": 18,
   "metadata": {
    "id": "zoXJi_6JMox0"
   },
   "outputs": [],
   "source": [
    "from sklearn.model_selection import GridSearchCV\n",
    "\n",
    "grid_parametros = {\n",
    "    'model__max_depth': [2, 3, 4, 5, 6, 7],\n",
    "    'model__criterion': ['gini', 'entropy'],\n",
    "    'model__class_weight': ['balanced', None]\n",
    "}\n",
    "\n",
    "grid_search = GridSearchCV(dt_pipe, grid_parametros, scoring='roc_auc', cv=skf, n_jobs=-1, verbose=1, refit=True)"
   ]
  },
  {
   "cell_type": "code",
   "execution_count": 19,
   "metadata": {
    "colab": {
     "base_uri": "https://localhost:8080/"
    },
    "executionInfo": {
     "elapsed": 7189,
     "status": "ok",
     "timestamp": 1618409399261,
     "user": {
      "displayName": "João Paulo da Costa Nogueira",
      "photoUrl": "https://lh3.googleusercontent.com/a-/AOh14GgdeCywfbq71Vsi7etCALtPU1tVWp_RgCuzRNTO=s64",
      "userId": "02773697422153285501"
     },
     "user_tz": 180
    },
    "id": "vbpUQJmGqghh",
    "outputId": "83c3025b-80e4-49a1-f32a-4f01ca154666"
   },
   "outputs": [
    {
     "name": "stdout",
     "output_type": "stream",
     "text": [
      "Fitting 5 folds for each of 24 candidates, totalling 120 fits\n"
     ]
    },
    {
     "name": "stderr",
     "output_type": "stream",
     "text": [
      "[Parallel(n_jobs=-1)]: Using backend LokyBackend with 4 concurrent workers.\n",
      "[Parallel(n_jobs=-1)]: Done  76 tasks      | elapsed:    1.8s\n",
      "[Parallel(n_jobs=-1)]: Done 120 out of 120 | elapsed:    2.7s finished\n"
     ]
    },
    {
     "data": {
      "text/plain": [
       "GridSearchCV(cv=StratifiedKFold(n_splits=5, random_state=42, shuffle=True),\n",
       "             estimator=Pipeline(steps=[('numeric_imputer',\n",
       "                                        ArbitraryNumberImputer(arbitrary_number=-999,\n",
       "                                                               variables=['tot_orders_12m',\n",
       "                                                                          'tot_items_12m',\n",
       "                                                                          'tot_items_dist_12m',\n",
       "                                                                          'receita_12m',\n",
       "                                                                          'recencia'])),\n",
       "                                       ('categoric_imputer',\n",
       "                                        CategoricalImputer(variables=['uf'])),\n",
       "                                       ('one_hot_encoder',\n",
       "                                        OneHotEncoder(variables=['uf'])),\n",
       "                                       ('model',\n",
       "                                        DecisionTreeClassifier(random_state=42))]),\n",
       "             n_jobs=-1,\n",
       "             param_grid={'model__class_weight': ['balanced', None],\n",
       "                         'model__criterion': ['gini', 'entropy'],\n",
       "                         'model__max_depth': [2, 3, 4, 5, 6, 7]},\n",
       "             scoring='roc_auc', verbose=1)"
      ]
     },
     "execution_count": 19,
     "metadata": {},
     "output_type": "execute_result"
    }
   ],
   "source": [
    "grid_search.fit(X_train, y_train)"
   ]
  },
  {
   "cell_type": "code",
   "execution_count": 20,
   "metadata": {
    "colab": {
     "base_uri": "https://localhost:8080/"
    },
    "executionInfo": {
     "elapsed": 1364,
     "status": "ok",
     "timestamp": 1618409403665,
     "user": {
      "displayName": "João Paulo da Costa Nogueira",
      "photoUrl": "https://lh3.googleusercontent.com/a-/AOh14GgdeCywfbq71Vsi7etCALtPU1tVWp_RgCuzRNTO=s64",
      "userId": "02773697422153285501"
     },
     "user_tz": 180
    },
    "id": "Wp2iVOlXMtQ0",
    "outputId": "8d563ad2-2c21-4794-8f07-2ab25059b0e8"
   },
   "outputs": [
    {
     "data": {
      "text/plain": [
       "{'model__class_weight': 'balanced',\n",
       " 'model__criterion': 'gini',\n",
       " 'model__max_depth': 4}"
      ]
     },
     "execution_count": 20,
     "metadata": {},
     "output_type": "execute_result"
    }
   ],
   "source": [
    "# melhor combinação de hiperparâmetros\n",
    "grid_search.best_params_"
   ]
  },
  {
   "cell_type": "code",
   "execution_count": 21,
   "metadata": {
    "colab": {
     "base_uri": "https://localhost:8080/"
    },
    "executionInfo": {
     "elapsed": 903,
     "status": "ok",
     "timestamp": 1618409406332,
     "user": {
      "displayName": "João Paulo da Costa Nogueira",
      "photoUrl": "https://lh3.googleusercontent.com/a-/AOh14GgdeCywfbq71Vsi7etCALtPU1tVWp_RgCuzRNTO=s64",
      "userId": "02773697422153285501"
     },
     "user_tz": 180
    },
    "id": "MTzeEzflMuBp",
    "outputId": "2b990f9a-928c-4a43-ee29-4d857f39103f"
   },
   "outputs": [
    {
     "data": {
      "text/plain": [
       "0.8911974445307779"
      ]
     },
     "execution_count": 21,
     "metadata": {},
     "output_type": "execute_result"
    }
   ],
   "source": [
    "# score da melhor combinação de hiperparâmetros\n",
    "grid_search.best_score_"
   ]
  },
  {
   "cell_type": "markdown",
   "metadata": {
    "id": "uh5SIXnVqoA1"
   },
   "source": [
    "## Avaliando a performance na base out of time"
   ]
  },
  {
   "cell_type": "code",
   "execution_count": 22,
   "metadata": {
    "colab": {
     "base_uri": "https://localhost:8080/"
    },
    "executionInfo": {
     "elapsed": 1057,
     "status": "ok",
     "timestamp": 1618409409690,
     "user": {
      "displayName": "João Paulo da Costa Nogueira",
      "photoUrl": "https://lh3.googleusercontent.com/a-/AOh14GgdeCywfbq71Vsi7etCALtPU1tVWp_RgCuzRNTO=s64",
      "userId": "02773697422153285501"
     },
     "user_tz": 180
    },
    "id": "xN5afMheqlia",
    "outputId": "f13814af-5f83-4073-d333-82ff0794bbb0"
   },
   "outputs": [
    {
     "name": "stdout",
     "output_type": "stream",
     "text": [
      "Decision Tree: ROCAUC OOT = 0.8980601190245211\n"
     ]
    }
   ],
   "source": [
    "from sklearn.metrics import roc_auc_score\n",
    "\n",
    "best_dt_model2 = grid_search.best_estimator_\n",
    "\n",
    "y_proba_oot = best_dt_model2.predict_proba(X_oot)[:, 1]\n",
    "rocauc_oot  = roc_auc_score(y_oot, y_proba_oot)\n",
    "print(f\"Decision Tree: ROCAUC OOT = {rocauc_oot}\")"
   ]
  },
  {
   "cell_type": "markdown",
   "metadata": {
    "id": "_Pg3CSYsl_2R"
   },
   "source": [
    "# Exercício: Faça uma busca de hiperparâmetros (grid search) para a regressão logística"
   ]
  },
  {
   "cell_type": "code",
   "execution_count": null,
   "metadata": {
    "id": "zSz7IJ-QrP09"
   },
   "outputs": [],
   "source": []
  }
 ],
 "metadata": {
  "colab": {
   "collapsed_sections": [],
   "name": "aula09-parte1-grid-search.ipynb",
   "provenance": []
  },
  "kernelspec": {
   "display_name": "Python 3",
   "language": "python",
   "name": "python3"
  },
  "language_info": {
   "codemirror_mode": {
    "name": "ipython",
    "version": 3
   },
   "file_extension": ".py",
   "mimetype": "text/x-python",
   "name": "python",
   "nbconvert_exporter": "python",
   "pygments_lexer": "ipython3",
   "version": "3.8.5"
  }
 },
 "nbformat": 4,
 "nbformat_minor": 1
}
