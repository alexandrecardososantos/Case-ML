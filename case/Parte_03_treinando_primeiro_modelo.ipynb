{
 "cells": [
  {
   "cell_type": "code",
   "execution_count": 1,
   "metadata": {
    "executionInfo": {
     "elapsed": 595,
     "status": "ok",
     "timestamp": 1618327872409,
     "user": {
      "displayName": "João Paulo da Costa Nogueira",
      "photoUrl": "https://lh3.googleusercontent.com/a-/AOh14GgdeCywfbq71Vsi7etCALtPU1tVWp_RgCuzRNTO=s64",
      "userId": "02773697422153285501"
     },
     "user_tz": 180
    },
    "id": "w0EnWaNw9poC"
   },
   "outputs": [],
   "source": [
    "import numpy as np\n",
    "import pandas as pd"
   ]
  },
  {
   "cell_type": "markdown",
   "metadata": {
    "id": "pKfzxOsm-Hxm"
   },
   "source": [
    "# Carregando a ABT"
   ]
  },
  {
   "cell_type": "code",
   "execution_count": 2,
   "metadata": {
    "executionInfo": {
     "elapsed": 2643,
     "status": "ok",
     "timestamp": 1618327910535,
     "user": {
      "displayName": "João Paulo da Costa Nogueira",
      "photoUrl": "https://lh3.googleusercontent.com/a-/AOh14GgdeCywfbq71Vsi7etCALtPU1tVWp_RgCuzRNTO=s64",
      "userId": "02773697422153285501"
     },
     "user_tz": 180
    },
    "id": "WdqiqNiHu8T9"
   },
   "outputs": [],
   "source": [
    "# carrega a abt\n",
    "df_abt = pd.read_csv('C:\\\\Users\\\\HP\\\\Documents\\\\GitHub\\\\Case ML\\\\propensao_revenda_abt.csv')\n",
    "\n",
    "# pega a base de treinamento\n",
    "df_train = df_abt.query('data_ref_safra < \"2018-06-01\"')\n",
    "\n",
    "# pega a base de avaliação (out of time)\n",
    "df_oot   = df_abt.query('data_ref_safra == \"2018-06-01\"')"
   ]
  },
  {
   "cell_type": "markdown",
   "metadata": {
    "id": "BHUqnkh0_fd_"
   },
   "source": [
    "# Identificar as Variáveis de Modelagem"
   ]
  },
  {
   "cell_type": "code",
   "execution_count": 3,
   "metadata": {
    "executionInfo": {
     "elapsed": 1429,
     "status": "ok",
     "timestamp": 1618328104662,
     "user": {
      "displayName": "João Paulo da Costa Nogueira",
      "photoUrl": "https://lh3.googleusercontent.com/a-/AOh14GgdeCywfbq71Vsi7etCALtPU1tVWp_RgCuzRNTO=s64",
      "userId": "02773697422153285501"
     },
     "user_tz": 180
    },
    "id": "njTaLJGr_fMy"
   },
   "outputs": [],
   "source": [
    "key_vars = ['data_ref_safra', 'seller_id']\n",
    "num_vars = ['tot_orders_12m', 'tot_items_12m', 'tot_items_dist_12m', 'receita_12m', 'recencia']\n",
    "cat_vars = ['uf']\n",
    "target = 'nao_revendeu_next_6m'\n",
    "\n",
    "features = cat_vars + num_vars\n",
    "\n",
    "# dados de treinamento\n",
    "X_train = df_train[features]\n",
    "y_train = df_train[target]\n",
    "\n",
    "# dados de avaliação (out of time)\n",
    "X_oot = df_oot[features]\n",
    "y_oot = df_oot[target]"
   ]
  },
  {
   "cell_type": "code",
   "execution_count": 4,
   "metadata": {
    "id": "at-_d8QSX2vt"
   },
   "outputs": [
    {
     "name": "stdout",
     "output_type": "stream",
     "text": [
      "Requirement already satisfied: feature-engine==1.0.2 in c:\\users\\hp\\appdata\\local\\programs\\python\\python38\\lib\\site-packages (1.0.2)\n",
      "Requirement already satisfied: numpy>=1.18.2 in c:\\users\\hp\\appdata\\local\\programs\\python\\python38\\lib\\site-packages (from feature-engine==1.0.2) (1.19.2)\n",
      "Requirement already satisfied: statsmodels>=0.11.1 in c:\\users\\hp\\appdata\\local\\programs\\python\\python38\\lib\\site-packages (from feature-engine==1.0.2) (0.12.1)\n",
      "Requirement already satisfied: scikit-learn>=0.22.2 in c:\\users\\hp\\appdata\\local\\programs\\python\\python38\\lib\\site-packages (from feature-engine==1.0.2) (0.23.2)\n",
      "Requirement already satisfied: pandas>=1.0.3 in c:\\users\\hp\\appdata\\local\\programs\\python\\python38\\lib\\site-packages (from feature-engine==1.0.2) (1.1.3)\n",
      "Requirement already satisfied: scipy>=1.4.1 in c:\\users\\hp\\appdata\\local\\programs\\python\\python38\\lib\\site-packages (from feature-engine==1.0.2) (1.5.2)\n",
      "Requirement already satisfied: patsy>=0.5 in c:\\users\\hp\\appdata\\local\\programs\\python\\python38\\lib\\site-packages (from statsmodels>=0.11.1->feature-engine==1.0.2) (0.5.1)\n",
      "Requirement already satisfied: threadpoolctl>=2.0.0 in c:\\users\\hp\\appdata\\local\\programs\\python\\python38\\lib\\site-packages (from scikit-learn>=0.22.2->feature-engine==1.0.2) (2.1.0)\n",
      "Requirement already satisfied: joblib>=0.11 in c:\\users\\hp\\appdata\\local\\programs\\python\\python38\\lib\\site-packages (from scikit-learn>=0.22.2->feature-engine==1.0.2) (0.16.0)\n",
      "Requirement already satisfied: python-dateutil>=2.7.3 in c:\\users\\hp\\appdata\\local\\programs\\python\\python38\\lib\\site-packages (from pandas>=1.0.3->feature-engine==1.0.2) (2.8.1)\n",
      "Requirement already satisfied: pytz>=2017.2 in c:\\users\\hp\\appdata\\local\\programs\\python\\python38\\lib\\site-packages (from pandas>=1.0.3->feature-engine==1.0.2) (2020.1)\n",
      "Requirement already satisfied: six in c:\\users\\hp\\appdata\\local\\programs\\python\\python38\\lib\\site-packages (from patsy>=0.5->statsmodels>=0.11.1->feature-engine==1.0.2) (1.15.0)\n"
     ]
    },
    {
     "name": "stderr",
     "output_type": "stream",
     "text": [
      "WARNING: You are using pip version 20.2.3; however, version 21.1 is available.\n",
      "You should consider upgrading via the 'c:\\users\\hp\\appdata\\local\\programs\\python\\python38\\python.exe -m pip install --upgrade pip' command.\n"
     ]
    }
   ],
   "source": [
    "# instalando o pacote feature-engine\n",
    "!pip install feature-engine==1.0.2"
   ]
  },
  {
   "cell_type": "markdown",
   "metadata": {
    "id": "e0cGcPAQc__F"
   },
   "source": [
    "# Treinando uma Regressão Logística"
   ]
  },
  {
   "cell_type": "code",
   "execution_count": 5,
   "metadata": {
    "executionInfo": {
     "elapsed": 2311,
     "status": "ok",
     "timestamp": 1618328008057,
     "user": {
      "displayName": "João Paulo da Costa Nogueira",
      "photoUrl": "https://lh3.googleusercontent.com/a-/AOh14GgdeCywfbq71Vsi7etCALtPU1tVWp_RgCuzRNTO=s64",
      "userId": "02773697422153285501"
     },
     "user_tz": 180
    },
    "id": "cHRF1_ikiLxA"
   },
   "outputs": [],
   "source": [
    "from sklearn.pipeline import Pipeline\n",
    "from feature_engine.imputation import MeanMedianImputer\n",
    "from feature_engine.imputation import CategoricalImputer\n",
    "from feature_engine.encoding import OneHotEncoder\n",
    "from feature_engine.wrappers import SklearnTransformerWrapper\n",
    "from sklearn.preprocessing import StandardScaler"
   ]
  },
  {
   "cell_type": "code",
   "execution_count": 6,
   "metadata": {
    "executionInfo": {
     "elapsed": 597,
     "status": "ok",
     "timestamp": 1618329686584,
     "user": {
      "displayName": "João Paulo da Costa Nogueira",
      "photoUrl": "https://lh3.googleusercontent.com/a-/AOh14GgdeCywfbq71Vsi7etCALtPU1tVWp_RgCuzRNTO=s64",
      "userId": "02773697422153285501"
     },
     "user_tz": 180
    },
    "id": "sEkmMe7kju8F"
   },
   "outputs": [],
   "source": [
    "from sklearn.linear_model import LogisticRegression\n",
    "\n",
    "lr_model_pipe = Pipeline(steps=[\n",
    "                ('numeric_imputer', MeanMedianImputer(variables=num_vars, imputation_method='median')),\n",
    "                ('numeric_scaler', SklearnTransformerWrapper(variables=num_vars, transformer=StandardScaler())),\n",
    "                ('categoric_imputer', CategoricalImputer(variables=cat_vars, fill_value='missing')),\n",
    "                ('one_hot_encoder', OneHotEncoder(variables=cat_vars)),\n",
    "                ('algoritmo', LogisticRegression(random_state=42))\n",
    "])"
   ]
  },
  {
   "cell_type": "code",
   "execution_count": 7,
   "metadata": {
    "colab": {
     "base_uri": "https://localhost:8080/",
     "height": 195
    },
    "executionInfo": {
     "elapsed": 1692,
     "status": "ok",
     "timestamp": 1618329743826,
     "user": {
      "displayName": "João Paulo da Costa Nogueira",
      "photoUrl": "https://lh3.googleusercontent.com/a-/AOh14GgdeCywfbq71Vsi7etCALtPU1tVWp_RgCuzRNTO=s64",
      "userId": "02773697422153285501"
     },
     "user_tz": 180
    },
    "id": "yn3L1Clk5TKE",
    "outputId": "e264d17c-071e-4a06-ca16-89e8badad095"
   },
   "outputs": [
    {
     "data": {
      "text/html": [
       "<div>\n",
       "<style scoped>\n",
       "    .dataframe tbody tr th:only-of-type {\n",
       "        vertical-align: middle;\n",
       "    }\n",
       "\n",
       "    .dataframe tbody tr th {\n",
       "        vertical-align: top;\n",
       "    }\n",
       "\n",
       "    .dataframe thead th {\n",
       "        text-align: right;\n",
       "    }\n",
       "</style>\n",
       "<table border=\"1\" class=\"dataframe\">\n",
       "  <thead>\n",
       "    <tr style=\"text-align: right;\">\n",
       "      <th></th>\n",
       "      <th>fit_time</th>\n",
       "      <th>score_time</th>\n",
       "      <th>test_accuracy</th>\n",
       "      <th>test_precision</th>\n",
       "      <th>test_recall</th>\n",
       "      <th>test_f1</th>\n",
       "      <th>test_roc_auc</th>\n",
       "    </tr>\n",
       "  </thead>\n",
       "  <tbody>\n",
       "    <tr>\n",
       "      <th>0</th>\n",
       "      <td>0.266296</td>\n",
       "      <td>0.106710</td>\n",
       "      <td>0.839618</td>\n",
       "      <td>0.865672</td>\n",
       "      <td>0.732323</td>\n",
       "      <td>0.793434</td>\n",
       "      <td>0.906935</td>\n",
       "    </tr>\n",
       "    <tr>\n",
       "      <th>1</th>\n",
       "      <td>0.249342</td>\n",
       "      <td>0.109700</td>\n",
       "      <td>0.814126</td>\n",
       "      <td>0.843168</td>\n",
       "      <td>0.685606</td>\n",
       "      <td>0.756267</td>\n",
       "      <td>0.889642</td>\n",
       "    </tr>\n",
       "    <tr>\n",
       "      <th>2</th>\n",
       "      <td>0.238362</td>\n",
       "      <td>0.082780</td>\n",
       "      <td>0.814126</td>\n",
       "      <td>0.846395</td>\n",
       "      <td>0.681818</td>\n",
       "      <td>0.755245</td>\n",
       "      <td>0.899581</td>\n",
       "    </tr>\n",
       "    <tr>\n",
       "      <th>3</th>\n",
       "      <td>0.250338</td>\n",
       "      <td>0.101723</td>\n",
       "      <td>0.821030</td>\n",
       "      <td>0.846037</td>\n",
       "      <td>0.701643</td>\n",
       "      <td>0.767104</td>\n",
       "      <td>0.896102</td>\n",
       "    </tr>\n",
       "    <tr>\n",
       "      <th>4</th>\n",
       "      <td>0.136662</td>\n",
       "      <td>0.050873</td>\n",
       "      <td>0.816153</td>\n",
       "      <td>0.852615</td>\n",
       "      <td>0.680152</td>\n",
       "      <td>0.756681</td>\n",
       "      <td>0.903026</td>\n",
       "    </tr>\n",
       "  </tbody>\n",
       "</table>\n",
       "</div>"
      ],
      "text/plain": [
       "   fit_time  score_time  test_accuracy  test_precision  test_recall   test_f1  \\\n",
       "0  0.266296    0.106710       0.839618        0.865672     0.732323  0.793434   \n",
       "1  0.249342    0.109700       0.814126        0.843168     0.685606  0.756267   \n",
       "2  0.238362    0.082780       0.814126        0.846395     0.681818  0.755245   \n",
       "3  0.250338    0.101723       0.821030        0.846037     0.701643  0.767104   \n",
       "4  0.136662    0.050873       0.816153        0.852615     0.680152  0.756681   \n",
       "\n",
       "   test_roc_auc  \n",
       "0      0.906935  \n",
       "1      0.889642  \n",
       "2      0.899581  \n",
       "3      0.896102  \n",
       "4      0.903026  "
      ]
     },
     "execution_count": 7,
     "metadata": {},
     "output_type": "execute_result"
    }
   ],
   "source": [
    "# Avaliando o modelo na base de treino\n",
    "from sklearn.model_selection import StratifiedKFold\n",
    "from sklearn.model_selection import cross_validate\n",
    "\n",
    "skf = StratifiedKFold(n_splits=5, shuffle=True, random_state=42)\n",
    "\n",
    "cv_results = cross_validate(lr_model_pipe, X_train, y_train, scoring=['accuracy', 'precision', 'recall', 'f1', 'roc_auc'], cv=skf, n_jobs=-1)\n",
    "cv_results_df = pd.DataFrame(cv_results)\n",
    "cv_results_df"
   ]
  },
  {
   "cell_type": "code",
   "execution_count": 8,
   "metadata": {
    "colab": {
     "base_uri": "https://localhost:8080/",
     "height": 77
    },
    "executionInfo": {
     "elapsed": 1058,
     "status": "ok",
     "timestamp": 1618329746408,
     "user": {
      "displayName": "João Paulo da Costa Nogueira",
      "photoUrl": "https://lh3.googleusercontent.com/a-/AOh14GgdeCywfbq71Vsi7etCALtPU1tVWp_RgCuzRNTO=s64",
      "userId": "02773697422153285501"
     },
     "user_tz": 180
    },
    "id": "9tWH6c0Rks9M",
    "outputId": "40f4fced-c4fb-483a-89b9-258f68147646"
   },
   "outputs": [
    {
     "data": {
      "text/html": [
       "<div>\n",
       "<style scoped>\n",
       "    .dataframe tbody tr th:only-of-type {\n",
       "        vertical-align: middle;\n",
       "    }\n",
       "\n",
       "    .dataframe tbody tr th {\n",
       "        vertical-align: top;\n",
       "    }\n",
       "\n",
       "    .dataframe thead th {\n",
       "        text-align: right;\n",
       "    }\n",
       "</style>\n",
       "<table border=\"1\" class=\"dataframe\">\n",
       "  <thead>\n",
       "    <tr style=\"text-align: right;\">\n",
       "      <th></th>\n",
       "      <th>oot_accuracy</th>\n",
       "      <th>oot_precision</th>\n",
       "      <th>oot_recall</th>\n",
       "      <th>oot_f1</th>\n",
       "      <th>oot_rocauc</th>\n",
       "    </tr>\n",
       "  </thead>\n",
       "  <tbody>\n",
       "    <tr>\n",
       "      <th>0</th>\n",
       "      <td>0.74469</td>\n",
       "      <td>0.938482</td>\n",
       "      <td>0.580567</td>\n",
       "      <td>0.717359</td>\n",
       "      <td>0.879107</td>\n",
       "    </tr>\n",
       "  </tbody>\n",
       "</table>\n",
       "</div>"
      ],
      "text/plain": [
       "   oot_accuracy  oot_precision  oot_recall    oot_f1  oot_rocauc\n",
       "0       0.74469       0.938482    0.580567  0.717359    0.879107"
      ]
     },
     "execution_count": 8,
     "metadata": {},
     "output_type": "execute_result"
    }
   ],
   "source": [
    "# Avaliando o modelo na base out of time\n",
    "from sklearn.metrics import accuracy_score, precision_score, recall_score, f1_score, roc_auc_score\n",
    "\n",
    "lr_model_pipe.fit(X_train, y_train)\n",
    "\n",
    "y_pred_oot  = lr_model_pipe.predict(X_oot)\n",
    "acc_oot       = accuracy_score(y_oot, y_pred_oot)\n",
    "precision_oot = precision_score(y_oot, y_pred_oot)\n",
    "recall_oot    = recall_score(y_oot, y_pred_oot)\n",
    "f1_oot        = f1_score(y_oot, y_pred_oot)\n",
    "\n",
    "y_proba_oot = lr_model_pipe.predict_proba(X_oot)[:,1]\n",
    "rocauc_oot = roc_auc_score(y_oot, y_proba_oot) \n",
    "\n",
    "metricas_nomes   = ['oot_accuracy', 'oot_precision', 'oot_recall', 'oot_f1', 'oot_rocauc']\n",
    "metricas_valores = [[acc_oot, precision_oot, recall_oot, f1_oot, rocauc_oot]]\n",
    "\n",
    "pd.DataFrame(metricas_valores, columns=metricas_nomes)"
   ]
  },
  {
   "cell_type": "markdown",
   "metadata": {
    "id": "fwvNQePllQvG"
   },
   "source": [
    "## Árvore de Decisão"
   ]
  },
  {
   "cell_type": "code",
   "execution_count": 9,
   "metadata": {
    "executionInfo": {
     "elapsed": 600,
     "status": "ok",
     "timestamp": 1618329753486,
     "user": {
      "displayName": "João Paulo da Costa Nogueira",
      "photoUrl": "https://lh3.googleusercontent.com/a-/AOh14GgdeCywfbq71Vsi7etCALtPU1tVWp_RgCuzRNTO=s64",
      "userId": "02773697422153285501"
     },
     "user_tz": 180
    },
    "id": "YYuCj9YGlGSx"
   },
   "outputs": [],
   "source": [
    "from sklearn.tree import DecisionTreeClassifier\n",
    "\n",
    "tree_model_pipe = Pipeline(steps=[\n",
    "                ('numeric_imputer', MeanMedianImputer(variables=num_vars, imputation_method='median')),\n",
    "                ('categoric_imputer', CategoricalImputer(variables=cat_vars, fill_value='missing')),\n",
    "                ('one_hot_encoder', OneHotEncoder(variables=cat_vars)),\n",
    "                ('algoritmo', DecisionTreeClassifier(random_state=42))\n",
    "])"
   ]
  },
  {
   "cell_type": "code",
   "execution_count": 10,
   "metadata": {
    "colab": {
     "base_uri": "https://localhost:8080/",
     "height": 195
    },
    "executionInfo": {
     "elapsed": 1257,
     "status": "ok",
     "timestamp": 1618329769468,
     "user": {
      "displayName": "João Paulo da Costa Nogueira",
      "photoUrl": "https://lh3.googleusercontent.com/a-/AOh14GgdeCywfbq71Vsi7etCALtPU1tVWp_RgCuzRNTO=s64",
      "userId": "02773697422153285501"
     },
     "user_tz": 180
    },
    "id": "Ccd1hHDH-HGb",
    "outputId": "a382fcbb-e4a6-4315-a149-1e1955731490"
   },
   "outputs": [
    {
     "data": {
      "text/html": [
       "<div>\n",
       "<style scoped>\n",
       "    .dataframe tbody tr th:only-of-type {\n",
       "        vertical-align: middle;\n",
       "    }\n",
       "\n",
       "    .dataframe tbody tr th {\n",
       "        vertical-align: top;\n",
       "    }\n",
       "\n",
       "    .dataframe thead th {\n",
       "        text-align: right;\n",
       "    }\n",
       "</style>\n",
       "<table border=\"1\" class=\"dataframe\">\n",
       "  <thead>\n",
       "    <tr style=\"text-align: right;\">\n",
       "      <th></th>\n",
       "      <th>fit_time</th>\n",
       "      <th>score_time</th>\n",
       "      <th>test_accuracy</th>\n",
       "      <th>test_precision</th>\n",
       "      <th>test_recall</th>\n",
       "      <th>test_f1</th>\n",
       "      <th>test_roc_auc</th>\n",
       "    </tr>\n",
       "  </thead>\n",
       "  <tbody>\n",
       "    <tr>\n",
       "      <th>0</th>\n",
       "      <td>0.131648</td>\n",
       "      <td>0.070812</td>\n",
       "      <td>0.773765</td>\n",
       "      <td>0.734615</td>\n",
       "      <td>0.723485</td>\n",
       "      <td>0.729008</td>\n",
       "      <td>0.766749</td>\n",
       "    </tr>\n",
       "    <tr>\n",
       "      <th>1</th>\n",
       "      <td>0.127657</td>\n",
       "      <td>0.070812</td>\n",
       "      <td>0.744557</td>\n",
       "      <td>0.695597</td>\n",
       "      <td>0.698232</td>\n",
       "      <td>0.696912</td>\n",
       "      <td>0.738209</td>\n",
       "    </tr>\n",
       "    <tr>\n",
       "      <th>2</th>\n",
       "      <td>0.133642</td>\n",
       "      <td>0.072805</td>\n",
       "      <td>0.771641</td>\n",
       "      <td>0.727960</td>\n",
       "      <td>0.729798</td>\n",
       "      <td>0.728878</td>\n",
       "      <td>0.765907</td>\n",
       "    </tr>\n",
       "    <tr>\n",
       "      <th>3</th>\n",
       "      <td>0.132644</td>\n",
       "      <td>0.066821</td>\n",
       "      <td>0.776421</td>\n",
       "      <td>0.728960</td>\n",
       "      <td>0.744627</td>\n",
       "      <td>0.736710</td>\n",
       "      <td>0.772039</td>\n",
       "    </tr>\n",
       "    <tr>\n",
       "      <th>4</th>\n",
       "      <td>0.077792</td>\n",
       "      <td>0.041889</td>\n",
       "      <td>0.776302</td>\n",
       "      <td>0.730673</td>\n",
       "      <td>0.740834</td>\n",
       "      <td>0.735719</td>\n",
       "      <td>0.771932</td>\n",
       "    </tr>\n",
       "  </tbody>\n",
       "</table>\n",
       "</div>"
      ],
      "text/plain": [
       "   fit_time  score_time  test_accuracy  test_precision  test_recall   test_f1  \\\n",
       "0  0.131648    0.070812       0.773765        0.734615     0.723485  0.729008   \n",
       "1  0.127657    0.070812       0.744557        0.695597     0.698232  0.696912   \n",
       "2  0.133642    0.072805       0.771641        0.727960     0.729798  0.728878   \n",
       "3  0.132644    0.066821       0.776421        0.728960     0.744627  0.736710   \n",
       "4  0.077792    0.041889       0.776302        0.730673     0.740834  0.735719   \n",
       "\n",
       "   test_roc_auc  \n",
       "0      0.766749  \n",
       "1      0.738209  \n",
       "2      0.765907  \n",
       "3      0.772039  \n",
       "4      0.771932  "
      ]
     },
     "execution_count": 10,
     "metadata": {},
     "output_type": "execute_result"
    }
   ],
   "source": [
    "# avaliando na base de treino\n",
    "skf = StratifiedKFold(n_splits=5, shuffle=True, random_state=42)\n",
    "\n",
    "cv_results = cross_validate(tree_model_pipe, X_train, y_train, scoring=['accuracy', 'precision', 'recall', 'f1', 'roc_auc'], cv=skf, n_jobs=-1)\n",
    "cv_results_df = pd.DataFrame(cv_results)\n",
    "cv_results_df"
   ]
  },
  {
   "cell_type": "code",
   "execution_count": 11,
   "metadata": {
    "colab": {
     "base_uri": "https://localhost:8080/",
     "height": 77
    },
    "executionInfo": {
     "elapsed": 575,
     "status": "ok",
     "timestamp": 1618329793787,
     "user": {
      "displayName": "João Paulo da Costa Nogueira",
      "photoUrl": "https://lh3.googleusercontent.com/a-/AOh14GgdeCywfbq71Vsi7etCALtPU1tVWp_RgCuzRNTO=s64",
      "userId": "02773697422153285501"
     },
     "user_tz": 180
    },
    "id": "KpMn-17eliU7",
    "outputId": "e233c764-1a34-485b-85b7-7c20e6cb8dea"
   },
   "outputs": [
    {
     "data": {
      "text/html": [
       "<div>\n",
       "<style scoped>\n",
       "    .dataframe tbody tr th:only-of-type {\n",
       "        vertical-align: middle;\n",
       "    }\n",
       "\n",
       "    .dataframe tbody tr th {\n",
       "        vertical-align: top;\n",
       "    }\n",
       "\n",
       "    .dataframe thead th {\n",
       "        text-align: right;\n",
       "    }\n",
       "</style>\n",
       "<table border=\"1\" class=\"dataframe\">\n",
       "  <thead>\n",
       "    <tr style=\"text-align: right;\">\n",
       "      <th></th>\n",
       "      <th>oot_accuracy</th>\n",
       "      <th>oot_precision</th>\n",
       "      <th>oot_recall</th>\n",
       "      <th>oot_f1</th>\n",
       "      <th>oot_rocauc</th>\n",
       "    </tr>\n",
       "  </thead>\n",
       "  <tbody>\n",
       "    <tr>\n",
       "      <th>0</th>\n",
       "      <td>0.714415</td>\n",
       "      <td>0.817703</td>\n",
       "      <td>0.62834</td>\n",
       "      <td>0.710623</td>\n",
       "      <td>0.726057</td>\n",
       "    </tr>\n",
       "  </tbody>\n",
       "</table>\n",
       "</div>"
      ],
      "text/plain": [
       "   oot_accuracy  oot_precision  oot_recall    oot_f1  oot_rocauc\n",
       "0      0.714415       0.817703     0.62834  0.710623    0.726057"
      ]
     },
     "execution_count": 11,
     "metadata": {},
     "output_type": "execute_result"
    }
   ],
   "source": [
    "# avaliando na base out of time\n",
    "tree_model_pipe.fit(X_train, y_train)\n",
    "\n",
    "y_pred_oot  = tree_model_pipe.predict(X_oot)\n",
    "acc_oot       = accuracy_score(y_oot, y_pred_oot)\n",
    "precision_oot = precision_score(y_oot, y_pred_oot)\n",
    "recall_oot    = recall_score(y_oot, y_pred_oot)\n",
    "f1_oot        = f1_score(y_oot, y_pred_oot)\n",
    "\n",
    "y_proba_oot = tree_model_pipe.predict_proba(X_oot)[:,1]\n",
    "rocauc_oot = roc_auc_score(y_oot, y_proba_oot) \n",
    "\n",
    "metricas_nomes   = ['oot_accuracy', 'oot_precision', 'oot_recall', 'oot_f1', 'oot_rocauc']\n",
    "metricas_valores = [[acc_oot, precision_oot, recall_oot, f1_oot, rocauc_oot]]\n",
    "\n",
    "pd.DataFrame(metricas_valores, columns=metricas_nomes)"
   ]
  }
 ],
 "metadata": {
  "colab": {
   "collapsed_sections": [],
   "name": "aula08-parte4-treinando-primeiro-modelo-atualizado.ipynb",
   "provenance": []
  },
  "kernelspec": {
   "display_name": "Python 3",
   "language": "python",
   "name": "python3"
  },
  "language_info": {
   "codemirror_mode": {
    "name": "ipython",
    "version": 3
   },
   "file_extension": ".py",
   "mimetype": "text/x-python",
   "name": "python",
   "nbconvert_exporter": "python",
   "pygments_lexer": "ipython3",
   "version": "3.8.5"
  }
 },
 "nbformat": 4,
 "nbformat_minor": 1
}
